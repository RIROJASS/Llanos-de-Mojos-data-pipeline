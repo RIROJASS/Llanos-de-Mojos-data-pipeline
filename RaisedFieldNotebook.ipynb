#raised field model finder
ln -s /blue/nicolas.gauthier/raul.rojas flmnh
​
import sys
import os
import cv2
import matplotlib.pyplot as plt
import numpy as np
import glob
import random
from PIL import Image
from ultralytics import YOLO
from mpl_toolkits.axes_grid1 import ImageGrid
from sahi import AutoDetectionModel
from sahi.predict import get_prediction, get_sliced_prediction, predict
​
# Add project directory to path
project_path = '/home/raul.rojas/RR'
if project_path not in sys.path:
    sys.path.append(project_path)
​
# Change to project directory
os.chdir(project_path)
# defining image area
def yolo2bbox(bboxes):
    xmin, ymin = bboxes[0]-bboxes[2]/2, bboxes[1]-bboxes[3]/2
    xmax, ymax = bboxes[0]+bboxes[2]/2, bboxes[1]+bboxes[3]/2
    return xmin, ymin, xmax, ymax
​
def plot_box(image, bboxes, labels):
    h, w, _ = image.shape
    for box_num, box in enumerate(bboxes):
        x1, y1, x2, y2 = yolo2bbox(box)
        xmin = int(x1*w)
        ymin = int(y1*h)
        xmax = int(x2*w)
        ymax = int(y2*h)
        thickness = max(2, int(w/275))
        cv2.rectangle(
            image,
            (xmin, ymin), (xmax, ymax),
            color=(0, 0, 255),
            thickness=thickness
        )
    return image
# data collection
def plot(image_paths, label_paths, num_samples):
    # Debug: Print directory contents
    print("\nImage directory contents:")
    print(os.listdir(image_paths)[:5])
    print("\nLabel directory contents:")
    print(os.listdir(label_paths)[:5])
    
    all_images = []
    all_images.extend(glob.glob(image_paths+'/*.jpg'))
    all_images.extend(glob.glob(image_paths+'/*.JPG'))
    
    all_images.sort()
    num_images = len(all_images)
    
    if num_images == 0:
        raise ValueError(f"No images found in {image_paths}")
        
    print(f"\nFound {num_images} images")
    print("Sample image paths:", all_images[:2])
    
    plt.figure(figsize=(20, 20))
    for i in range(num_samples):
        j = random.randint(0, num_images-1)
        image_name = all_images[j]
        image_name = '.'.join(image_name.split(os.path.sep)[-1].split('.')[:-1])
        
        print(f"\nProcessing image: {image_name}")
        
        image = cv2.imread(all_images[j])
        label_path = os.path.join(label_paths, image_name+'.txt')
        
        print(f"Looking for label file: {label_path}")
        
        if not os.path.exists(label_path):
            print(f"Warning: Label file not found: {label_path}")
            continue
            
        with open(label_path, 'r') as f:
            bboxes = []
            labels = []
            label_lines = f.readlines()
            for label_line in label_lines:
                label = label_line[0]
                bbox_string = label_line[2:]
                x_c, y_c, w, h = bbox_string.split(' ')
                bboxes.append([float(x_c), float(y_c), float(w), float(h)])
                labels.append(label)
        result_image = plot_box(image, bboxes, labels)
        plt.subplot(4, 4, i+1)
        plt.imshow(result_image[:, :, ::-1])
        plt.axis('off')
    
    plt.tight_layout()
    plt.show()
​
# Updated paths
IMAGES_PATH = '/home/raul.rojas/RR/dataRR/trainRR/imagesRR'
LABELS_PATH = '/home/raul.rojas/RR/dataRR/validRR/ProcessedLabelsRR3'
DATA_YAML = '/home/raul.rojas/RR/dataRR/data.yaml'
OUTPUT_PATH = '/home/raul.rojas/RR/runs/detect'
​
​
def check_dataset_integrity(images_path, labels_path):
    print("\n🔍 Running dataset integrity checks...")
​
    # Check if directories exist
    for path in [images_path, labels_path]:
        if not os.path.exists(path):
            print(f"❌ ERROR: Path not found -> {path}")
            return False
​
    # Get all image and label files
    image_files = sorted(glob.glob(os.path.join(images_path, "*.jpg")) + glob.glob(os.path.join(images_path, "*.JPG")))
    label_files = sorted(glob.glob(os.path.join(labels_path, "*.txt")))
​
    # Check if images and labels exist
    if not image_files:
        print("❌ ERROR: No images found in", images_path)
        return False
    if not label_files:
        print("❌ ERROR: No label files found in", labels_path)
        return False
​
    # Convert label file names to match image names (without extensions)
    image_names = {os.path.splitext(os.path.basename(img))[0] for img in image_files}
    label_names = {os.path.splitext(os.path.basename(lbl))[0] for lbl in label_files}
​
    # Find missing label files
    missing_labels = image_names - label_names
    if missing_labels:
        print(f"⚠️ WARNING: {len(missing_labels)} images are missing labels. Sample:")
        print("\n".join(list(missing_labels)[:5]))
​
    # Find missing image files
    missing_images = label_names - image_names
    if missing_images:
        print(f"⚠️ WARNING: {len(missing_images)} labels do not have corresponding images. Sample:")
        print("\n".join(list(missing_images)[:5]))
​
    # Check if any label files are empty
    empty_labels = [lbl for lbl in label_files if os.stat(lbl).st_size == 0]
    if empty_labels:
        print(f"⚠️ WARNING: {len(empty_labels)} label files are empty. Sample:")
        print("\n".join(empty_labels[:5]))
​
    # Delete stale .cache files (force data refresh)
    cache_files = glob.glob(os.path.join(images_path, "*.cache"))
    for cache in cache_files:
        os.remove(cache)
        print(f"🗑️ Deleted stale cache file: {cache}")
​
    print("\n✅ Dataset integrity check complete!\n")
    return True
​
​
​
​
def imgGrid(folder):
    results = [os.path.join(folder, i) for i in os.listdir(folder)]
    fig = plt.figure(figsize=(20, 20))
    grid = ImageGrid(fig, 111, nrows_ncols=(4, 4), axes_pad=0.1)
    images = random.choices(results, k=16)
    
    for ax, im in zip(grid, images):
        im = plt.imread(im)
        ax.imshow(im)
        ax.grid(False)
        ax.axis('off')
    
    plt.show()
​
​
def train_model():
    # Training parameters
    EPOCHS = 120
    
    # Initialize and train model
    model = YOLO('yolov8n.pt')
    model.train(
        data=DATA_YAML,
        epochs=EPOCHS,
        imgsz=640,
        batch=8,
        name='yolov8_raised_fields',
        project=OUTPUT_PATH  # Explicitly set the project directory
    )
    
    return model
​
​
def predict_with_sahi(model_path, source_images):
    print(f"Looking for model weights at: {model_path}")
    if not os.path.exists(model_path):
        raise ValueError(f"Model weights not found at {model_path}")
    
    # Initialize SAHI model
    model = AutoDetectionModel.from_pretrained(
        model_type='yolov8',
        model_path=model_path,
        confidence_threshold=0.4,
        device="cpu"
    )
    
    # Slice parameters
    slice_params = {
        'slice_height': 320,
        'slice_width': 320,
        'overlap_height_ratio': 0.2,
        'overlap_width_ratio': 0.2
    }
    
    # Create prediction output directory
    predict_output = os.path.join(OUTPUT_PATH, 'predict')
    os.makedirs(predict_output, exist_ok=True)
    
    # Run predictions
    predict(
        model_type="yolov8",
        model_path=model_path,
        model_device="cpu",
        model_confidence_threshold=0.4,
        source=source_images,
        project=predict_output,  # Set explicit output directory for predictions
        **slice_params
    )
​
if __name__ == "__main__":
    # Print directory structure and verify paths
    print("\nChecking directory structure:")
    for path in [IMAGES_PATH, LABELS_PATH, DATA_YAML]:
        print(f"\nPath: {path}")
        print(f"Exists: {os.path.exists(path)}")
        if os.path.exists(path) and os.path.isdir(path):
            print("Contents:", os.listdir(path)[:5])
    
    # Plot training data visualization
    plot(
        image_paths=IMAGES_PATH,
        label_paths=LABELS_PATH,
        num_samples=16
    )
    
    # Train model
    model = train_model()
    
    # Get best weights path from the correct location
    best_weights = os.path.join(OUTPUT_PATH, 'yolov8_raised_fields2/weights/best.pt')
    print(f"\nChecking for best weights at: {best_weights}")
    
    # Run SAHI predictions
    predict_with_sahi(best_weights, IMAGES_PATH)
    
    # Update results path to match new output structure
    results_path = os.path.join(OUTPUT_PATH, 'predict/exp/visuals')
    print(f"\nLooking for results at: {results_path}")
    if os.path.exists(results_path):
        imgGrid(results_path)
    else:
        print(f"Results directory not found at {results_path}")





​
