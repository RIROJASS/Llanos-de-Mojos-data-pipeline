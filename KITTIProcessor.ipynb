#Kitti processor code
# Setup 
import os
import cv2
import numpy as np
import pandas as pd
import glob
import random
import matplotlib.pyplot as plt
from tqdm import tqdm
from pathlib import Path

# functions to convert KITTI files from ArcGIS to YOLO format
def convert_kitti_to_yolo(line):
    parts = line.strip().split()
    if len(parts) != 15:
        return None
        
    try:
        # Get class (first value)
        class_id = "0"
        
        # Extract and normalize KITTI coordinates
        min_x = float(parts[4]) / 256.0  # Column 5
        max_y = float(parts[5]) / 256.0  # Column 6
        max_x = float(parts[6]) / 256.0  # Column 7
        min_y = float(parts[7]) / 256.0  # Column 8
        
        # Calculate YOLO format values
        x_center = (min_x + max_x) / 2.0
        y_center = (min_y + max_y) / 2.0
        width = max_x - min_x
        height = min_y - max_y  # Inverted because KITTI y coordinates start from top
        height = abs(height)
        
        return f"{class_id} {x_center:.7f} {y_center:.7f} {width:.7f} {height:.7f}"
        
    except (ValueError, IndexError) as e:
        print(f"Error processing line: {line}")
        return None

# self explanatory function
def process_and_validate_dataset(input_folder, output_folder, image_folder=None, validation_output=None):
    """
    Complete pipeline to convert and validate KITTI to YOLO format
    """
    print("\nStep 1: Verifying input paths...")
    if not os.path.exists(input_folder):
        raise ValueError(f"Input folder not found: {input_folder}")
    os.makedirs(output_folder, exist_ok=True)
    if validation_output:
        os.makedirs(validation_output, exist_ok=True)
    
    # Get all input files
    label_files = glob.glob(os.path.join(input_folder, '*.txt'))
    print(f"Found {len(label_files)} label files to process")
    
    print("\nStep 2: Converting KITTI to YOLO format...")
    for label_file in tqdm(label_files, desc="Converting files"):
        try:
            # Read KITTI format
            with open(label_file, 'r') as f:
                lines = f.readlines()
            
            # Convert to YOLO format
            yolo_lines = []
            for line in lines:
                yolo_line = convert_kitti_to_yolo(line)
                if yolo_line:
                    yolo_lines.append(yolo_line)
            
            # Save YOLO format
            output_file = os.path.join(output_folder, os.path.basename(label_file))
            with open(output_file, 'w') as f:
                f.write('\n'.join(yolo_lines))
                
        except Exception as e:
            print(f"Error processing {label_file}: {str(e)}")
    
    print("\nStep 3: Validating conversion...")
    # Statistical validation
    stats = {
        'total_files': 0,
        'total_boxes': 0,
        'invalid_values': 0,
        'width_stats': [],
        'height_stats': [],
        'center_x_stats': [],
        'center_y_stats': []
    }
    
    for yolo_file in tqdm(glob.glob(os.path.join(output_folder, '*.txt')), desc="Analyzing results"):
        with open(yolo_file, 'r') as f:
            lines = f.readlines()
            stats['total_boxes'] += len(lines)
            
            for line in lines:
                _, x, y, w, h = map(float, line.split())
                stats['center_x_stats'].append(x)
                stats['center_y_stats'].append(y)
                stats['width_stats'].append(w)
                stats['height_stats'].append(h)
                
                if not all(0 <= val <= 1 for val in [x,y,w,h]):
                    stats['invalid_values'] += 1
        
        stats['total_files'] += 1
    
    # Print validation results
    print("\nConversion Results:")
    print(f"Total files processed: {stats['total_files']}")
    print(f"Total boxes converted: {stats['total_boxes']}")
    print(f"Invalid values found: {stats['invalid_values']}")
    
    print("\nDimensional Statistics:")
    for metric in ['width_stats', 'height_stats', 'center_x_stats', 'center_y_stats']:
        values = stats[metric]
        if values:
            print(f"\n{metric}:")
            print(f"  Mean: {np.mean(values):.4f}")
            print(f"  Std: {np.std(values):.4f}")
            print(f"  Min: {min(values):.4f}")
            print(f"  Max: {max(values):.4f}")
    
    # Visual validation if image folder provided
    if image_folder and validation_output and os.path.exists(image_folder):
        print("\nStep 4: Generating visual validation samples...")
        samples = random.sample(label_files, min(5, len(label_files)))
        for sample in samples:
            yolo_file = os.path.join(output_folder, os.path.basename(sample))
            if os.path.exists(yolo_file):
                visualize_boxes(
                    image_folder=image_folder,
                    original_label=sample,
                    yolo_label=yolo_file,
                    output_folder=validation_output
                )

if __name__ == "__main__":
    # Define paths
    INPUT_FOLDER = '/home/raul.rojas/RR/labelsRR3'
    OUTPUT_FOLDER = '/home/raul.rojas/RR/dataRR/validRR/ProcessedLabelsRR3'
    IMAGE_FOLDER = '/home/raul.rojas/RR/dataRR/imagesRR'
    VALIDATION_OUTPUT = '/home/raul.rojas/RR/dataRR/validRR/validation_output'
    
    # Run complete pipeline
    process_and_validate_dataset(
        input_folder=INPUT_FOLDER,
        output_folder=OUTPUT_FOLDER,
        image_folder=IMAGE_FOLDER,
        validation_output=VALIDATION_OUTPUT
    )
